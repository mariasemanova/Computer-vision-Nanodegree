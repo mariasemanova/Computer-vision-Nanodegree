{
 "cells": [
  {
   "cell_type": "markdown",
   "metadata": {},
   "source": [
    "# Move Function\n",
    "\n",
    "Now that you know how a robot uses sensor measurements to update its idea of its own location, let's see how we can incorporate motion into this location. In this notebook, let's go over the steps a robot takes to help localize itself from an initial, uniform distribution to sensing, moving and updating that distribution.\n",
    "\n",
    "We include the `sense` function that you've seen, which updates an initial distribution based on whether a robot senses a grid color: red or green. \n",
    "\n",
    "Next, you're tasked with writing a function `move` that incorporates motion into the distribution. As seen below, **one motion `U= 1` to the right, causes all values in a distribution to shift one grid cell to the right.**\n",
    "\n",
    "<img src='images/motion_1.png' width=50% height=50% />\n"
   ]
  },
  {
   "cell_type": "markdown",
   "metadata": {},
   "source": [
    "First let's include our usual resource imports and display function."
   ]
  },
  {
   "cell_type": "code",
   "execution_count": 1,
   "metadata": {},
   "outputs": [],
   "source": [
    "# importing resources\n",
    "import matplotlib.pyplot as plt\n",
    "import numpy as np"
   ]
  },
  {
   "cell_type": "markdown",
   "metadata": {},
   "source": [
    "A helper function for visualizing a distribution."
   ]
  },
  {
   "cell_type": "code",
   "execution_count": 2,
   "metadata": {},
   "outputs": [],
   "source": [
    "def display_map(grid, bar_width=1):\n",
    "    if(len(grid) > 0):\n",
    "        x_labels = range(len(grid))\n",
    "        plt.bar(x_labels, height=grid, width=bar_width, color='y')\n",
    "        plt.xlabel('Grid Cell')\n",
    "        plt.ylabel('Probability')\n",
    "        plt.ylim(0, 1) # range of 0-1 for probability values \n",
    "        plt.title('Probability of the robot being at each cell in the grid')\n",
    "        plt.xticks(np.arange(min(x_labels), max(x_labels)+1, 1))\n",
    "        plt.show()\n",
    "    else:\n",
    "        print('Grid is empty')\n"
   ]
  },
  {
   "cell_type": "markdown",
   "metadata": {
    "collapsed": true
   },
   "source": [
    "You are given the initial variables and the complete `sense` function, below."
   ]
  },
  {
   "cell_type": "code",
   "execution_count": null,
   "metadata": {},
   "outputs": [],
   "source": [
    "# given initial variables\n",
    "p=[0, 1, 0, 0, 0]\n",
    "# the color of each grid cell in the 1D world\n",
    "world=['green', 'red', 'red', 'green', 'green']\n",
    "# Z, the sensor reading ('red' or 'green')\n",
    "Z = 'red'\n",
    "pHit = 0.6\n",
    "pMiss = 0.2\n",
    "\n",
    "# You are given the complete sense function\n",
    "def sense(p, Z):\n",
    "    ''' Takes in a current probability distribution, p, and a sensor reading, Z.\n",
    "        Returns a *normalized* distribution after the sensor measurement has been made, q.\n",
    "        This should be accurate whether Z is 'red' or 'green'. '''\n",
    "    q=[]\n",
    "    # loop through all grid cells\n",
    "    for i in range(len(p)):\n",
    "        # check if the sensor reading is equal to the color of the grid cell\n",
    "        # if so, hit = 1\n",
    "        # if not, hit = 0\n",
    "        hit = (Z == world[i])\n",
    "        q.append(p[i] * (hit * pHit + (1-hit) * pMiss))\n",
    "        \n",
    "    # sum up all the components\n",
    "    s = sum(q)\n",
    "    # divide all elements of q by the sum to normalize\n",
    "    for i in range(len(p)):\n",
    "        q[i] = q[i] / s\n",
    "    return q\n",
    "\n",
    "# Commented out code for measurements\n",
    "# for k in range(len(measurements)):\n",
    "#     p = sense(p, measurements)\n"
   ]
  },
  {
   "cell_type": "markdown",
   "metadata": {},
   "source": [
    "### QUIZ: Program a function that returns a new distribution q, shifted to the right by the motion (U) units. \n",
    "\n",
    "This function should shift a distribution with the motion, U. Keep in mind that this world is cyclic and that if U=0, q should be the same as the given p. You should see all the values in `p` are moved to the right by 1, for U=1."
   ]
  },
  {
   "cell_type": "code",
   "execution_count": 9,
   "metadata": {},
   "outputs": [
    {
     "name": "stdout",
     "output_type": "stream",
     "text": [
      "[0, 0, 1, 0, 0]\n"
     ]
    },
    {
     "data": {
      "image/png": "[encoded data removed]",
      "text/plain": [
       "<matplotlib.figure.Figure at 0x7f7535c9d278>"
      ]
     },
     "metadata": {
      "needs_background": "light"
     },
     "output_type": "display_data"
    }
   ],
   "source": [
    "\n",
    "## TODO: Complete this move function so that it shifts a probability distribution, p\n",
    "## by a given motion, U\n",
    "def move(p, U):\n",
    "    q=[]\n",
    "    # Your code here\n",
    "    for i in range(len(p)):\n",
    "        q.append(p[(i-U) % len(p)])\n",
    "    \n",
    "    return q\n",
    "\n",
    "p = move(p,1)\n",
    "print(p)\n",
    "display_map(p)"
   ]
  },
  {
   "cell_type": "code",
   "execution_count": null,
   "metadata": {},
   "outputs": [],
   "source": []
  }
 ],
 "metadata": {
  "kernelspec": {
   "display_name": "Python 3",
   "language": "python",
   "name": "python3"
  },
  "language_info": {
   "codemirror_mode": {
    "name": "ipython",
    "version": 3
   },
   "file_extension": ".py",
   "mimetype": "text/x-python",
   "name": "python",
   "nbconvert_exporter": "python",
   "pygments_lexer": "ipython3",
   "version": "3.6.3"
  }
 },
 "nbformat": 4,
 "nbformat_minor": 2
}
